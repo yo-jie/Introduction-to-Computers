{
  "nbformat": 4,
  "nbformat_minor": 0,
  "metadata": {
    "colab": {
      "name": "0525.ipynb",
      "provenance": [],
      "collapsed_sections": [],
      "authorship_tag": "ABX9TyNrqT2qwx7eLlCD7LpQU6xi",
      "include_colab_link": true
    },
    "kernelspec": {
      "name": "python3",
      "display_name": "Python 3"
    },
    "language_info": {
      "name": "python"
    }
  },
  "cells": [
    {
      "cell_type": "markdown",
      "metadata": {
        "id": "view-in-github",
        "colab_type": "text"
      },
      "source": [
        "<a href=\"https://colab.research.google.com/github/yo-jie/Introduction-to-Computers/blob/main/0525.ipynb\" target=\"_parent\"><img src=\"https://colab.research.google.com/assets/colab-badge.svg\" alt=\"Open In Colab\"/></a>"
      ]
    },
    {
      "cell_type": "code",
      "source": [
        "print(\"test\")"
      ],
      "metadata": {
        "colab": {
          "base_uri": "https://localhost:8080/"
        },
        "id": "SCvX3cAa104J",
        "outputId": "155e3c66-5263-4f21-f958-56977e849a55"
      },
      "execution_count": 3,
      "outputs": [
        {
          "output_type": "stream",
          "name": "stdout",
          "text": [
            "test\n"
          ]
        }
      ]
    },
    {
      "cell_type": "code",
      "execution_count": 5,
      "metadata": {
        "colab": {
          "base_uri": "https://localhost:8080/"
        },
        "id": "e6944BkL0-Pf",
        "outputId": "be900fdd-8e40-4c95-d16c-2bf2782e0ca6"
      },
      "outputs": [
        {
          "output_type": "stream",
          "name": "stdout",
          "text": [
            "請輸入一個正整數:50\n",
            "1到 50 的整數和為 1275\n"
          ]
        }
      ],
      "source": [
        "sum=0\n",
        "test=int(input(\"請輸入一個正整數:\"))\n",
        "for n in range(1,test+1):\n",
        "  sum=sum+n\n",
        "print(\"1到\",test,\"的整數和為\",sum)"
      ]
    },
    {
      "cell_type": "code",
      "source": [
        "sum=0\n",
        "test=int(input(\"請輸入一個正整數:\"))\n",
        "for m in range(1,test+1):\n",
        "    sum=sum+n\n",
        "    print(\"1到\",str(m)+\"的整數和為\",sum)"
      ],
      "metadata": {
        "colab": {
          "base_uri": "https://localhost:8080/"
        },
        "id": "jZoKb4uz3fyX",
        "outputId": "29069c15-4330-43a2-f0ec-bca3d2b25f23"
      },
      "execution_count": 6,
      "outputs": [
        {
          "output_type": "stream",
          "name": "stdout",
          "text": [
            "請輸入一個正整數:10\n",
            "1到 1的整數和為 50\n",
            "1到 2的整數和為 100\n",
            "1到 3的整數和為 150\n",
            "1到 4的整數和為 200\n",
            "1到 5的整數和為 250\n",
            "1到 6的整數和為 300\n",
            "1到 7的整數和為 350\n",
            "1到 8的整數和為 400\n",
            "1到 9的整數和為 450\n",
            "1到 10的整數和為 500\n"
          ]
        }
      ]
    },
    {
      "cell_type": "code",
      "source": [
        "for j in range(1,5):\n",
        "  print(j)\n",
        "  for i in range (1,3):\n",
        "    k=i*j\n",
        "    print(j,\"*\",i,\"=\",k)"
      ],
      "metadata": {
        "colab": {
          "base_uri": "https://localhost:8080/"
        },
        "id": "pSKAIQjs4-ti",
        "outputId": "c370ba8f-1cc4-4304-d942-f33fb097b09b"
      },
      "execution_count": 7,
      "outputs": [
        {
          "output_type": "stream",
          "name": "stdout",
          "text": [
            "1\n",
            "1 * 1 = 1\n",
            "1 * 2 = 2\n",
            "2\n",
            "2 * 1 = 2\n",
            "2 * 2 = 4\n",
            "3\n",
            "3 * 1 = 3\n",
            "3 * 2 = 6\n",
            "4\n",
            "4 * 1 = 4\n",
            "4 * 2 = 8\n"
          ]
        }
      ]
    },
    {
      "cell_type": "code",
      "source": [
        "for j in range(1,6):\n",
        "  print(j)\n",
        "  for i in range (1,3):\n",
        "    k=i*j\n",
        "    print(j,\"*\",i,\"=\",k)"
      ],
      "metadata": {
        "colab": {
          "base_uri": "https://localhost:8080/"
        },
        "id": "XtX-4JfX6Vo6",
        "outputId": "6434b0a2-1ab9-4caa-e510-1481a87e3c79"
      },
      "execution_count": 8,
      "outputs": [
        {
          "output_type": "stream",
          "name": "stdout",
          "text": [
            "1\n",
            "1 * 1 = 1\n",
            "1 * 2 = 2\n",
            "2\n",
            "2 * 1 = 2\n",
            "2 * 2 = 4\n",
            "3\n",
            "3 * 1 = 3\n",
            "3 * 2 = 6\n",
            "4\n",
            "4 * 1 = 4\n",
            "4 * 2 = 8\n",
            "5\n",
            "5 * 1 = 5\n",
            "5 * 2 = 10\n"
          ]
        }
      ]
    },
    {
      "cell_type": "code",
      "source": [
        "for i in range(1,5):\n",
        "    if(i==4):\n",
        "      break\n",
        "    print(i,end=\" \")"
      ],
      "metadata": {
        "colab": {
          "base_uri": "https://localhost:8080/"
        },
        "id": "ZgFje11_85y3",
        "outputId": "11f4800f-8ba3-4e39-bf9f-aaab92a2891a"
      },
      "execution_count": 10,
      "outputs": [
        {
          "output_type": "stream",
          "name": "stdout",
          "text": [
            "1 2 3 "
          ]
        }
      ]
    },
    {
      "cell_type": "code",
      "source": [
        "for i in range(1,5):\n",
        "    if(i==3):\n",
        "      break\n",
        "    print(i,end=\" \")"
      ],
      "metadata": {
        "colab": {
          "base_uri": "https://localhost:8080/"
        },
        "id": "-LTRpJY_9OUP",
        "outputId": "ed532838-f834-4368-ce7c-f9560180f06b"
      },
      "execution_count": 11,
      "outputs": [
        {
          "output_type": "stream",
          "name": "stdout",
          "text": [
            "1 2 "
          ]
        }
      ]
    },
    {
      "cell_type": "code",
      "source": [
        "count=0\n",
        "for string in 'hello!':\n",
        "  count+=1\n",
        "  if string == 'o':\n",
        "    break\n",
        "  print(string)\n",
        "print(\"迴圈結束\")\n",
        "print(\"迴圈執行了 %d 次\"%count)"
      ],
      "metadata": {
        "colab": {
          "base_uri": "https://localhost:8080/"
        },
        "id": "PMtQVyGz_sR8",
        "outputId": "326ff5d0-57d2-4067-f743-754cb5bc5c77"
      },
      "execution_count": 18,
      "outputs": [
        {
          "output_type": "stream",
          "name": "stdout",
          "text": [
            "h\n",
            "e\n",
            "l\n",
            "l\n",
            "迴圈結束\n",
            "迴圈執行了 5 次\n"
          ]
        }
      ]
    },
    {
      "cell_type": "code",
      "source": [
        "count=0\n",
        "for string in '測試看看!':\n",
        "  count+=1\n",
        "  if string == '看':\n",
        "    break\n",
        "  print(string)\n",
        "print(\"迴圈結束\")\n",
        "print(\"迴圈執行了 %d 次\"%count)"
      ],
      "metadata": {
        "colab": {
          "base_uri": "https://localhost:8080/"
        },
        "id": "Xb6xoAoyBdQz",
        "outputId": "3cd5fb9f-d86f-4505-b145-c1d39b57e7f2"
      },
      "execution_count": 19,
      "outputs": [
        {
          "output_type": "stream",
          "name": "stdout",
          "text": [
            "測\n",
            "試\n",
            "迴圈結束\n",
            "迴圈執行了 3 次\n"
          ]
        }
      ]
    },
    {
      "cell_type": "code",
      "source": [
        "for j in range(2,10):\n",
        "  for i in range (1,10):\n",
        "    k=i*j\n",
        "    print(\"%d*%d=%2d\" % (j,i,k)+\"\\t\",end=\" \")\n",
        "  print()"
      ],
      "metadata": {
        "colab": {
          "base_uri": "https://localhost:8080/"
        },
        "id": "vkDcEPI5EMwf",
        "outputId": "b4cccaa7-3973-4dd7-8fcb-e302495e4ddb"
      },
      "execution_count": 30,
      "outputs": [
        {
          "output_type": "stream",
          "name": "stdout",
          "text": [
            "2*1= 2\t 2*2= 4\t 2*3= 6\t 2*4= 8\t 2*5=10\t 2*6=12\t 2*7=14\t 2*8=16\t 2*9=18\t \n",
            "3*1= 3\t 3*2= 6\t 3*3= 9\t 3*4=12\t 3*5=15\t 3*6=18\t 3*7=21\t 3*8=24\t 3*9=27\t \n",
            "4*1= 4\t 4*2= 8\t 4*3=12\t 4*4=16\t 4*5=20\t 4*6=24\t 4*7=28\t 4*8=32\t 4*9=36\t \n",
            "5*1= 5\t 5*2=10\t 5*3=15\t 5*4=20\t 5*5=25\t 5*6=30\t 5*7=35\t 5*8=40\t 5*9=45\t \n",
            "6*1= 6\t 6*2=12\t 6*3=18\t 6*4=24\t 6*5=30\t 6*6=36\t 6*7=42\t 6*8=48\t 6*9=54\t \n",
            "7*1= 7\t 7*2=14\t 7*3=21\t 7*4=28\t 7*5=35\t 7*6=42\t 7*7=49\t 7*8=56\t 7*9=63\t \n",
            "8*1= 8\t 8*2=16\t 8*3=24\t 8*4=32\t 8*5=40\t 8*6=48\t 8*7=56\t 8*8=64\t 8*9=72\t \n",
            "9*1= 9\t 9*2=18\t 9*3=27\t 9*4=36\t 9*5=45\t 9*6=54\t 9*7=63\t 9*8=72\t 9*9=81\t \n"
          ]
        }
      ]
    },
    {
      "cell_type": "code",
      "source": [
        "a=int(input(\"請輸入a的值:\"))\n",
        "b=int(input(\"請輸入b的值:\"))\n",
        "for i in range (1,(a*b)+1):\n",
        "  if(i % a==0 and i % b==0):\n",
        "    break\n",
        "print(a,\"和\",b,\"的最小公倍數=\"+str(i))"
      ],
      "metadata": {
        "colab": {
          "base_uri": "https://localhost:8080/"
        },
        "id": "P0K3QVTXG4Pt",
        "outputId": "1d94ba14-89c4-4992-b4e4-8379a4ae915d"
      },
      "execution_count": 31,
      "outputs": [
        {
          "output_type": "stream",
          "name": "stdout",
          "text": [
            "請輸入a的值:9\n",
            "請輸入b的值:15\n",
            "9 和 15 的最小公倍數=45\n"
          ]
        }
      ]
    },
    {
      "cell_type": "code",
      "source": [
        "a=int(input(\"請輸入正整數:\"))\n",
        "for n in range (1,a+1):\n",
        "  if n%5==0:\n",
        "    continue\n",
        "  print(n,end=\" \")"
      ],
      "metadata": {
        "colab": {
          "base_uri": "https://localhost:8080/"
        },
        "id": "G2zWagrcLMcp",
        "outputId": "695a355c-6194-486d-9d23-e6783c1a9de2"
      },
      "execution_count": 34,
      "outputs": [
        {
          "output_type": "stream",
          "name": "stdout",
          "text": [
            "請輸入正整數:12\n",
            "1 2 3 4 6 7 8 9 11 12 "
          ]
        }
      ]
    },
    {
      "cell_type": "code",
      "source": [
        "a=int(input(\"請輸入正整數:\"))\n",
        "for n in range (1,a+1):\n",
        "  if n%5==0:\n",
        "    continue\n",
        "  print(n,end=\" \")"
      ],
      "metadata": {
        "colab": {
          "base_uri": "https://localhost:8080/"
        },
        "id": "qA8DnLIEKi1O",
        "outputId": "5690c714-3496-48ea-9f87-5afcdfb5e8a2"
      },
      "execution_count": 33,
      "outputs": [
        {
          "output_type": "stream",
          "name": "stdout",
          "text": [
            "請輸入正整數:21\n",
            "1 2 3 4 6 7 8 9 11 12 13 14 16 17 18 19 21 "
          ]
        }
      ]
    },
    {
      "cell_type": "code",
      "source": [
        ""
      ],
      "metadata": {
        "id": "WZzvSdBpKfs7"
      },
      "execution_count": null,
      "outputs": []
    }
  ]
}