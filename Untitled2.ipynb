{
  "nbformat": 4,
  "nbformat_minor": 0,
  "metadata": {
    "colab": {
      "name": "Untitled2.ipynb",
      "provenance": [],
      "collapsed_sections": [],
      "authorship_tag": "ABX9TyOO+8E1bvZzZqpEITGMtFxd",
      "include_colab_link": true
    },
    "kernelspec": {
      "name": "python3",
      "display_name": "Python 3"
    },
    "language_info": {
      "name": "python"
    }
  },
  "cells": [
    {
      "cell_type": "markdown",
      "metadata": {
        "id": "view-in-github",
        "colab_type": "text"
      },
      "source": [
        "<a href=\"https://colab.research.google.com/github/yo-jie/Introduction-to-Computers/blob/main/Untitled2.ipynb\" target=\"_parent\"><img src=\"https://colab.research.google.com/assets/colab-badge.svg\" alt=\"Open In Colab\"/></a>"
      ]
    },
    {
      "cell_type": "code",
      "execution_count": 2,
      "metadata": {
        "id": "JRWBD4PYqMAX",
        "colab": {
          "base_uri": "https://localhost:8080/"
        },
        "outputId": "521258ef-b270-487e-b3dc-81974a43c243"
      },
      "outputs": [
        {
          "output_type": "stream",
          "name": "stdout",
          "text": [
            "消費者擁有的金額150\n",
            "可購買手機\n"
          ]
        }
      ],
      "source": [
        "money=int(input(\"消費者擁有的金額\")) \n",
        "mo=int(money)  \n",
        "if(mo<100):\n",
        "    print(\"金額不足\")\n",
        "elif(mo>=100)and(mo<200):\n",
        "    print(\"可購買手機\")\n",
        "elif(mo>=200)and(mo<300):\n",
        "    print(\"可購買平板\")\n",
        "else:\n",
        "    print(\"可購買電腦\")"
      ]
    }
  ]
}