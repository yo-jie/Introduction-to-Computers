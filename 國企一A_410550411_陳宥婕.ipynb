{
  "nbformat": 4,
  "nbformat_minor": 0,
  "metadata": {
    "colab": {
      "name": "國企一A 410550411 陳宥婕.ipynb",
      "provenance": [],
      "collapsed_sections": [],
      "authorship_tag": "ABX9TyNZQg8sx8CWcHfPwRkQKQuR",
      "include_colab_link": true
    },
    "kernelspec": {
      "name": "python3",
      "display_name": "Python 3"
    },
    "language_info": {
      "name": "python"
    }
  },
  "cells": [
    {
      "cell_type": "markdown",
      "metadata": {
        "id": "view-in-github",
        "colab_type": "text"
      },
      "source": [
        "<a href=\"https://colab.research.google.com/github/yo-jie/Introduction-to-Computers/blob/main/%E5%9C%8B%E4%BC%81%E4%B8%80A_410550411_%E9%99%B3%E5%AE%A5%E5%A9%95.ipynb\" target=\"_parent\"><img src=\"https://colab.research.google.com/assets/colab-badge.svg\" alt=\"Open In Colab\"/></a>"
      ]
    },
    {
      "cell_type": "code",
      "execution_count": 3,
      "metadata": {
        "colab": {
          "base_uri": "https://localhost:8080/"
        },
        "id": "lXXLmxAALP9N",
        "outputId": "b2dbfa69-4e3e-45b3-a459-99b1433b1d5f"
      },
      "outputs": [
        {
          "output_type": "stream",
          "name": "stdout",
          "text": [
            "金州勇士現在有的球員陣容= ['curry', 'Green', 'Durant', 'Looney', 'Thompson']\n",
            "勇士今天最高的三個得分 [30, 22, 28] 球員分別為 ['curry', 'Durant', 'Thompson']\n",
            "勇士今天最低的兩個得分 [5, 6] 球員分別為 ['Green', 'Looney']\n",
            "勇士今天最高得分為Curry 分數為 30\n",
            "勇士今天最高得分為Green 分數為 5\n"
          ]
        }
      ],
      "source": [
        "Player=[\"curry\",\"Green\",\"Durant\",\"Looney\",\"Thompson\"]\n",
        "Fraction=[30,5,22,6,28]\n",
        "print(\"金州勇士現在有的球員陣容=\",Player)\n",
        "print(\"勇士今天最高的三個得分\",Fraction[0:6:2],\"球員分別為\",Player[0:6:2])\n",
        "print(\"勇士今天最低的兩個得分\",Fraction[1:6:2],\"球員分別為\",Player[1:6:2])\n",
        "print(\"勇士今天最高得分為Curry\",\"分數為\",max(Fraction[0:6]))\n",
        "print(\"勇士今天最高得分為Green\",\"分數為\",min(Fraction[0:6]))"
      ]
    }
  ]
}