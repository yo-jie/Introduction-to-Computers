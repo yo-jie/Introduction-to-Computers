{
  "nbformat": 4,
  "nbformat_minor": 0,
  "metadata": {
    "colab": {
      "name": "0511.ipynb",
      "provenance": [],
      "collapsed_sections": [],
      "authorship_tag": "ABX9TyNfd8pHJjwLnR83L/HWUxOt",
      "include_colab_link": true
    },
    "kernelspec": {
      "name": "python3",
      "display_name": "Python 3"
    },
    "language_info": {
      "name": "python"
    }
  },
  "cells": [
    {
      "cell_type": "markdown",
      "metadata": {
        "id": "view-in-github",
        "colab_type": "text"
      },
      "source": [
        "<a href=\"https://colab.research.google.com/github/yo-jie/Introduction-to-Computers/blob/main/0511.ipynb\" target=\"_parent\"><img src=\"https://colab.research.google.com/assets/colab-badge.svg\" alt=\"Open In Colab\"/></a>"
      ]
    },
    {
      "cell_type": "code",
      "execution_count": 2,
      "metadata": {
        "colab": {
          "base_uri": "https://localhost:8080/"
        },
        "id": "9cg44ZGBW70X",
        "outputId": "e8c2767d-e952-4f48-c75d-1b68113fa482"
      },
      "outputs": [
        {
          "output_type": "stream",
          "name": "stdout",
          "text": [
            "test\n"
          ]
        }
      ],
      "source": [
        "print(\"test\")"
      ]
    },
    {
      "cell_type": "code",
      "source": [
        "temp = float(input(\"請輸入你的體溫\"))\n",
        "if temp>=37.5:\n",
        "    print(\"體溫過高!\")\n",
        "elif temp>=37 and temp<37.4:\n",
        "    print(\"體溫略高!\")\n",
        "elif temp>=34 and temp<36.9:\n",
        "    print(\"體溫正常!\")\n",
        "else:\n",
        "    print(\"體溫異常，請重新量測!\")"
      ],
      "metadata": {
        "colab": {
          "base_uri": "https://localhost:8080/"
        },
        "id": "ugGCv7QybxH-",
        "outputId": "f98e6e51-e42a-4dd4-a715-babc86ea6281"
      },
      "execution_count": 24,
      "outputs": [
        {
          "output_type": "stream",
          "name": "stdout",
          "text": [
            "請輸入你的體溫33\n",
            "體溫異常，請重新量測!\n"
          ]
        }
      ]
    },
    {
      "cell_type": "code",
      "source": [
        "money=int(input(\"請輸入購物金額:\"))\n",
        "if(money>=10000):\n",
        "  if(money>=100000):\n",
        "    print(\"八折\",money*0.8,end=\"元\\n\")\n",
        "  elif(money>=50000):\n",
        "    print(\"八五折\",money*0.85,end=\"元\\n\")\n",
        "  elif(money>=30000):\n",
        "    print(\"九折\",money*0.9,end=\"元\\n\")\n",
        "  else:\n",
        "    print(\"九五折\",money*0.95,end=\"元\\n\")\n",
        "else:\n",
        " print(\"沒打折\",money,end=\"元\\n\")"
      ],
      "metadata": {
        "colab": {
          "base_uri": "https://localhost:8080/"
        },
        "id": "owIz7ACam6oT",
        "outputId": "1ffb8633-6eb9-4b04-feda-9e6df6e68267"
      },
      "execution_count": 29,
      "outputs": [
        {
          "output_type": "stream",
          "name": "stdout",
          "text": [
            "請輸入購物金額:10000\n",
            "九五折 9500.0元\n"
          ]
        }
      ]
    },
    {
      "cell_type": "code",
      "source": [
        "grade=int(input(\"請輸入成績:\"))\n",
        "if grade>=90:\n",
        "    print(\"A\")\n",
        "elif grade>=80 and grade<=89:\n",
        "    print(\"B\")\n",
        "elif grade>=70 and grade<=79:\n",
        "    print(\"C\")\n",
        "elif grade>=60 and grade<=69:\n",
        "    print(\"D\")\n",
        "else:\n",
        "    print(\"E\")"
      ],
      "metadata": {
        "colab": {
          "base_uri": "https://localhost:8080/"
        },
        "id": "7FHQaDP_rpUP",
        "outputId": "91109fc6-b9e4-4639-fdeb-a37312debd4f"
      },
      "execution_count": 35,
      "outputs": [
        {
          "output_type": "stream",
          "name": "stdout",
          "text": [
            "請輸入成績:50\n",
            "E\n"
          ]
        }
      ]
    },
    {
      "cell_type": "code",
      "source": [
        "month=int(input(\"請輸入月份:\"))\n",
        "if(month==3 or month==4 or month==5):\n",
        "    print(month,\"月是春天!\")\n",
        "elif(month==6 or month==7 or month==8): \n",
        "    print(month,\"月是夏天!\")\n",
        "elif(month==9 or month==10 or month==11):\n",
        "    print(month,\"月是秋天!\")\n",
        "elif(month==12 or month==1 or month==2):\n",
        "    print(month,\"月是冬天!\")\n",
        "else:\n",
        "    print(\"月份不在範圍內!\")"
      ],
      "metadata": {
        "colab": {
          "base_uri": "https://localhost:8080/"
        },
        "id": "kIiojjPGxY0J",
        "outputId": "6112d19b-483f-4109-fc8b-6851bb552741"
      },
      "execution_count": 39,
      "outputs": [
        {
          "output_type": "stream",
          "name": "stdout",
          "text": [
            "請輸入月份:11\n",
            "11 月是秋天!\n"
          ]
        }
      ]
    },
    {
      "cell_type": "code",
      "source": [
        "money=int(input(\"請輸入今年收入淨額:\"))\n",
        "if(money>=300000):\n",
        "  if(money>=2000000):\n",
        "    print(\"付稅金額:\",money*0.3,end=\"元\\n\")\n",
        "  elif(money>=1000000):\n",
        "    print(\"付稅金額:\",money*0.21,end=\"元\\n\")\n",
        "  elif(money>=600000):\n",
        "    print(\"付稅金額:\",money*0.13,end=\"元\\n\")\n",
        "  else:\n",
        "    print(\"付稅金額:\",money*0.06,end=\"元\\n\")\n",
        "else:\n",
        " print(\"付稅金額:\",0,end=\"元\\n\")"
      ],
      "metadata": {
        "colab": {
          "base_uri": "https://localhost:8080/"
        },
        "id": "tvMMa-qnykJN",
        "outputId": "a055700a-9dae-44f4-8630-3575dfd1e390"
      },
      "execution_count": 34,
      "outputs": [
        {
          "output_type": "stream",
          "name": "stdout",
          "text": [
            "請輸入今年收入淨額:2000000\n",
            "付稅金額: 600000.0元\n"
          ]
        }
      ]
    }
  ]
}